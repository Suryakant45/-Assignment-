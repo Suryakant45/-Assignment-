{
 "cells": [
  {
   "cell_type": "markdown",
   "id": "6f663624-1633-4140-8fc4-1514a06ae62e",
   "metadata": {},
   "source": [
    "Q-1] What does an empty dictionary's code look like?"
   ]
  },
  {
   "cell_type": "markdown",
   "id": "53f7ad99-6c15-494c-80c0-44c9702e8f11",
   "metadata": {},
   "source": [
    "Ans:- Two curly brackets: { }"
   ]
  },
  {
   "cell_type": "markdown",
   "id": "44e5a88f-63fe-4c22-8eca-7ee4b8410093",
   "metadata": {},
   "source": [
    "Q-2] What is the value of a dictionary value with the key'foo' and the value 42?"
   ]
  },
  {
   "cell_type": "markdown",
   "id": "03ed5e93-6b49-4093-b9fb-7b2ba1a92106",
   "metadata": {},
   "source": [
    "Ans:- { 'foo' : 42}"
   ]
  },
  {
   "cell_type": "markdown",
   "id": "6902ef03-0e29-4dfa-850f-f12d810aa4b1",
   "metadata": {},
   "source": [
    "Q-3] What is the most significant distinction between a dictionary and a list?"
   ]
  },
  {
   "cell_type": "markdown",
   "id": "e9789414-7ee2-4ef9-ae6d-f3f1d393f7ee",
   "metadata": {},
   "source": [
    "Ans:- The items stored in a dictionary are unordered, While the items ina list are ordered."
   ]
  },
  {
   "cell_type": "markdown",
   "id": "062b1b9c-b5b4-49a7-85d0-d49f3f52c863",
   "metadata": {},
   "source": [
    "Q-4] What happens if you try to access spam['foo'] if spam is {'bar': 100}?"
   ]
  },
  {
   "cell_type": "markdown",
   "id": "05cdb432-f356-47ec-b9cf-ef29bdb99a0b",
   "metadata": {},
   "source": [
    "Ans: You get a KeyError error."
   ]
  },
  {
   "cell_type": "markdown",
   "id": "5fb2fb0b-89ce-41b4-a83a-f17789b6d2a3",
   "metadata": {},
   "source": [
    "Q-5] If a dictionary is stored in spam, what is the difference between the expression 'cat' in spam and 'cat' in spam.keys()?"
   ]
  },
  {
   "cell_type": "markdown",
   "id": "f0c2a9ec-dbee-463a-8aab-fec832735b4b",
   "metadata": {},
   "source": [
    "Ans:- There is no difference. the in operator checks whether a value exists as a key in the dictionary."
   ]
  },
  {
   "cell_type": "markdown",
   "id": "64d62060-ac8d-4b65-ae55-6c222a88a631",
   "metadata": {},
   "source": [
    "Q-6] If a dictionary is stored in spam, what is the difference between the expressions 'cat' in spam and 'cat' in spam.values()?"
   ]
  },
  {
   "cell_type": "markdown",
   "id": "49ca0293-f8aa-444e-bc3f-fb602d36c0bd",
   "metadata": {},
   "source": [
    "Ans:- 'cat' in spam checks whether there is a 'cat' key in the dictionary, while 'cat' in spam.values() checks whether there is a value 'cat' for one of the keys in spam."
   ]
  },
  {
   "cell_type": "markdown",
   "id": "8a22f469-f0d8-4472-be54-8c9e74128abb",
   "metadata": {},
   "source": [
    "Q-7] What is a shortcut for the following code?      \n",
    "if 'color' not in spam:\n",
    "spam['color'] = 'block'"
   ]
  },
  {
   "cell_type": "markdown",
   "id": "4400d5d5-40b0-460a-946f-965fccd5f113",
   "metadata": {},
   "source": [
    "Ans:- spam.setdefault('color', 'block')"
   ]
  },
  {
   "cell_type": "markdown",
   "id": "a071ad21-bed4-4f8a-86b1-05b017d92e27",
   "metadata": {},
   "source": [
    "Q-8] How do you \"pretty print\" dictionary values using which module and function?"
   ]
  },
  {
   "cell_type": "markdown",
   "id": "5fefc644-158c-4904-8e61-2fd1aeebe6c8",
   "metadata": {},
   "source": [
    "Ans:- pprint.pprint()"
   ]
  },
  {
   "cell_type": "code",
   "execution_count": null,
   "id": "b8962f41-36b5-4e53-a31b-bffd8553699d",
   "metadata": {},
   "outputs": [],
   "source": []
  }
 ],
 "metadata": {
  "kernelspec": {
   "display_name": "Python 3 (ipykernel)",
   "language": "python",
   "name": "python3"
  },
  "language_info": {
   "codemirror_mode": {
    "name": "ipython",
    "version": 3
   },
   "file_extension": ".py",
   "mimetype": "text/x-python",
   "name": "python",
   "nbconvert_exporter": "python",
   "pygments_lexer": "ipython3",
   "version": "3.10.6"
  }
 },
 "nbformat": 4,
 "nbformat_minor": 5
}
